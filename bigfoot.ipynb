{
 "cells": [
  {
   "cell_type": "code",
   "execution_count": 1,
   "metadata": {},
   "outputs": [],
   "source": [
    "# imports\n",
    "import pandas as pd\n",
    "import seaborn as sns"
   ]
  },
  {
   "cell_type": "code",
   "execution_count": 2,
   "metadata": {},
   "outputs": [
    {
     "data": {
      "text/html": [
       "<div>\n",
       "<style scoped>\n",
       "    .dataframe tbody tr th:only-of-type {\n",
       "        vertical-align: middle;\n",
       "    }\n",
       "\n",
       "    .dataframe tbody tr th {\n",
       "        vertical-align: top;\n",
       "    }\n",
       "\n",
       "    .dataframe thead th {\n",
       "        text-align: right;\n",
       "    }\n",
       "</style>\n",
       "<table border=\"1\" class=\"dataframe\">\n",
       "  <thead>\n",
       "    <tr style=\"text-align: right;\">\n",
       "      <th></th>\n",
       "      <th>observed</th>\n",
       "      <th>location_details</th>\n",
       "      <th>county</th>\n",
       "      <th>state</th>\n",
       "      <th>season</th>\n",
       "      <th>title</th>\n",
       "      <th>latitude</th>\n",
       "      <th>longitude</th>\n",
       "      <th>date</th>\n",
       "      <th>number</th>\n",
       "      <th>...</th>\n",
       "      <th>moon_phase</th>\n",
       "      <th>precip_intensity</th>\n",
       "      <th>precip_probability</th>\n",
       "      <th>precip_type</th>\n",
       "      <th>pressure</th>\n",
       "      <th>summary</th>\n",
       "      <th>uv_index</th>\n",
       "      <th>visibility</th>\n",
       "      <th>wind_bearing</th>\n",
       "      <th>wind_speed</th>\n",
       "    </tr>\n",
       "  </thead>\n",
       "  <tbody>\n",
       "    <tr>\n",
       "      <th>0</th>\n",
       "      <td>I was canoeing on the Sipsey river in Alabama....</td>\n",
       "      <td>NaN</td>\n",
       "      <td>Winston County</td>\n",
       "      <td>Alabama</td>\n",
       "      <td>Summer</td>\n",
       "      <td>NaN</td>\n",
       "      <td>NaN</td>\n",
       "      <td>NaN</td>\n",
       "      <td>NaN</td>\n",
       "      <td>30680.0</td>\n",
       "      <td>...</td>\n",
       "      <td>NaN</td>\n",
       "      <td>NaN</td>\n",
       "      <td>NaN</td>\n",
       "      <td>NaN</td>\n",
       "      <td>NaN</td>\n",
       "      <td>NaN</td>\n",
       "      <td>NaN</td>\n",
       "      <td>NaN</td>\n",
       "      <td>NaN</td>\n",
       "      <td>NaN</td>\n",
       "    </tr>\n",
       "    <tr>\n",
       "      <th>1</th>\n",
       "      <td>Ed L. was salmon fishing with a companion in P...</td>\n",
       "      <td>East side of Prince William Sound</td>\n",
       "      <td>Valdez-Chitina-Whittier County</td>\n",
       "      <td>Alaska</td>\n",
       "      <td>Fall</td>\n",
       "      <td>NaN</td>\n",
       "      <td>NaN</td>\n",
       "      <td>NaN</td>\n",
       "      <td>NaN</td>\n",
       "      <td>1261.0</td>\n",
       "      <td>...</td>\n",
       "      <td>NaN</td>\n",
       "      <td>NaN</td>\n",
       "      <td>NaN</td>\n",
       "      <td>NaN</td>\n",
       "      <td>NaN</td>\n",
       "      <td>NaN</td>\n",
       "      <td>NaN</td>\n",
       "      <td>NaN</td>\n",
       "      <td>NaN</td>\n",
       "      <td>NaN</td>\n",
       "    </tr>\n",
       "    <tr>\n",
       "      <th>2</th>\n",
       "      <td>While attending U.R.I in the Fall of 1974,I wo...</td>\n",
       "      <td>Great swamp area, Narragansett Indians</td>\n",
       "      <td>Washington County</td>\n",
       "      <td>Rhode Island</td>\n",
       "      <td>Fall</td>\n",
       "      <td>Report 6496: Bicycling student has night encou...</td>\n",
       "      <td>41.45</td>\n",
       "      <td>-71.5</td>\n",
       "      <td>1974-09-20</td>\n",
       "      <td>6496.0</td>\n",
       "      <td>...</td>\n",
       "      <td>0.16</td>\n",
       "      <td>0.0</td>\n",
       "      <td>0.0</td>\n",
       "      <td>NaN</td>\n",
       "      <td>1020.61</td>\n",
       "      <td>Foggy until afternoon.</td>\n",
       "      <td>4.0</td>\n",
       "      <td>2.75</td>\n",
       "      <td>198.0</td>\n",
       "      <td>6.92</td>\n",
       "    </tr>\n",
       "    <tr>\n",
       "      <th>3</th>\n",
       "      <td>Hello, My name is Doug and though I am very re...</td>\n",
       "      <td>I would rather not have exact location (listin...</td>\n",
       "      <td>York County</td>\n",
       "      <td>Pennsylvania</td>\n",
       "      <td>Summer</td>\n",
       "      <td>NaN</td>\n",
       "      <td>NaN</td>\n",
       "      <td>NaN</td>\n",
       "      <td>NaN</td>\n",
       "      <td>8000.0</td>\n",
       "      <td>...</td>\n",
       "      <td>NaN</td>\n",
       "      <td>NaN</td>\n",
       "      <td>NaN</td>\n",
       "      <td>NaN</td>\n",
       "      <td>NaN</td>\n",
       "      <td>NaN</td>\n",
       "      <td>NaN</td>\n",
       "      <td>NaN</td>\n",
       "      <td>NaN</td>\n",
       "      <td>NaN</td>\n",
       "    </tr>\n",
       "    <tr>\n",
       "      <th>4</th>\n",
       "      <td>It was May 1984. Two friends and I were up in ...</td>\n",
       "      <td>Logging roads north west of Yamhill, OR, about...</td>\n",
       "      <td>Yamhill County</td>\n",
       "      <td>Oregon</td>\n",
       "      <td>Spring</td>\n",
       "      <td>NaN</td>\n",
       "      <td>NaN</td>\n",
       "      <td>NaN</td>\n",
       "      <td>NaN</td>\n",
       "      <td>703.0</td>\n",
       "      <td>...</td>\n",
       "      <td>NaN</td>\n",
       "      <td>NaN</td>\n",
       "      <td>NaN</td>\n",
       "      <td>NaN</td>\n",
       "      <td>NaN</td>\n",
       "      <td>NaN</td>\n",
       "      <td>NaN</td>\n",
       "      <td>NaN</td>\n",
       "      <td>NaN</td>\n",
       "      <td>NaN</td>\n",
       "    </tr>\n",
       "  </tbody>\n",
       "</table>\n",
       "<p>5 rows × 28 columns</p>\n",
       "</div>"
      ],
      "text/plain": [
       "                                            observed  \\\n",
       "0  I was canoeing on the Sipsey river in Alabama....   \n",
       "1  Ed L. was salmon fishing with a companion in P...   \n",
       "2  While attending U.R.I in the Fall of 1974,I wo...   \n",
       "3  Hello, My name is Doug and though I am very re...   \n",
       "4  It was May 1984. Two friends and I were up in ...   \n",
       "\n",
       "                                    location_details  \\\n",
       "0                                                NaN   \n",
       "1                  East side of Prince William Sound   \n",
       "2             Great swamp area, Narragansett Indians   \n",
       "3  I would rather not have exact location (listin...   \n",
       "4  Logging roads north west of Yamhill, OR, about...   \n",
       "\n",
       "                           county         state  season  \\\n",
       "0                  Winston County       Alabama  Summer   \n",
       "1  Valdez-Chitina-Whittier County        Alaska    Fall   \n",
       "2               Washington County  Rhode Island    Fall   \n",
       "3                     York County  Pennsylvania  Summer   \n",
       "4                  Yamhill County        Oregon  Spring   \n",
       "\n",
       "                                               title  latitude  longitude  \\\n",
       "0                                                NaN       NaN        NaN   \n",
       "1                                                NaN       NaN        NaN   \n",
       "2  Report 6496: Bicycling student has night encou...     41.45      -71.5   \n",
       "3                                                NaN       NaN        NaN   \n",
       "4                                                NaN       NaN        NaN   \n",
       "\n",
       "         date   number  ... moon_phase precip_intensity  precip_probability  \\\n",
       "0         NaN  30680.0  ...        NaN              NaN                 NaN   \n",
       "1         NaN   1261.0  ...        NaN              NaN                 NaN   \n",
       "2  1974-09-20   6496.0  ...       0.16              0.0                 0.0   \n",
       "3         NaN   8000.0  ...        NaN              NaN                 NaN   \n",
       "4         NaN    703.0  ...        NaN              NaN                 NaN   \n",
       "\n",
       "   precip_type  pressure                 summary  uv_index  visibility  \\\n",
       "0          NaN       NaN                     NaN       NaN         NaN   \n",
       "1          NaN       NaN                     NaN       NaN         NaN   \n",
       "2          NaN   1020.61  Foggy until afternoon.       4.0        2.75   \n",
       "3          NaN       NaN                     NaN       NaN         NaN   \n",
       "4          NaN       NaN                     NaN       NaN         NaN   \n",
       "\n",
       "   wind_bearing  wind_speed  \n",
       "0           NaN         NaN  \n",
       "1           NaN         NaN  \n",
       "2         198.0        6.92  \n",
       "3           NaN         NaN  \n",
       "4           NaN         NaN  \n",
       "\n",
       "[5 rows x 28 columns]"
      ]
     },
     "execution_count": 2,
     "metadata": {},
     "output_type": "execute_result"
    }
   ],
   "source": [
    "reports = pd.read_csv(\"bfro_reports_geocoded.csv\")\n",
    "reports.head()"
   ]
  },
  {
   "cell_type": "code",
   "execution_count": 3,
   "metadata": {},
   "outputs": [
    {
     "data": {
      "text/html": [
       "<div>\n",
       "<style scoped>\n",
       "    .dataframe tbody tr th:only-of-type {\n",
       "        vertical-align: middle;\n",
       "    }\n",
       "\n",
       "    .dataframe tbody tr th {\n",
       "        vertical-align: top;\n",
       "    }\n",
       "\n",
       "    .dataframe thead th {\n",
       "        text-align: right;\n",
       "    }\n",
       "</style>\n",
       "<table border=\"1\" class=\"dataframe\">\n",
       "  <thead>\n",
       "    <tr style=\"text-align: right;\">\n",
       "      <th></th>\n",
       "      <th>latitude</th>\n",
       "      <th>longitude</th>\n",
       "      <th>number</th>\n",
       "      <th>temperature_high</th>\n",
       "      <th>temperature_mid</th>\n",
       "      <th>temperature_low</th>\n",
       "      <th>dew_point</th>\n",
       "      <th>humidity</th>\n",
       "      <th>cloud_cover</th>\n",
       "      <th>moon_phase</th>\n",
       "      <th>precip_intensity</th>\n",
       "      <th>precip_probability</th>\n",
       "      <th>pressure</th>\n",
       "      <th>uv_index</th>\n",
       "      <th>visibility</th>\n",
       "      <th>wind_bearing</th>\n",
       "      <th>wind_speed</th>\n",
       "    </tr>\n",
       "  </thead>\n",
       "  <tbody>\n",
       "    <tr>\n",
       "      <th>count</th>\n",
       "      <td>4045.000000</td>\n",
       "      <td>4045.000000</td>\n",
       "      <td>5021.000000</td>\n",
       "      <td>3338.000000</td>\n",
       "      <td>3186.000000</td>\n",
       "      <td>3189.000000</td>\n",
       "      <td>3373.000000</td>\n",
       "      <td>3373.000000</td>\n",
       "      <td>3084.000000</td>\n",
       "      <td>3396.000000</td>\n",
       "      <td>2712.000000</td>\n",
       "      <td>2710.000000</td>\n",
       "      <td>2619.000000</td>\n",
       "      <td>3392.000000</td>\n",
       "      <td>3049.000000</td>\n",
       "      <td>3387.000000</td>\n",
       "      <td>3389.000000</td>\n",
       "    </tr>\n",
       "    <tr>\n",
       "      <th>mean</th>\n",
       "      <td>39.363271</td>\n",
       "      <td>-97.423304</td>\n",
       "      <td>21520.234814</td>\n",
       "      <td>67.117693</td>\n",
       "      <td>57.843377</td>\n",
       "      <td>48.638768</td>\n",
       "      <td>46.233433</td>\n",
       "      <td>0.705672</td>\n",
       "      <td>0.438982</td>\n",
       "      <td>0.497968</td>\n",
       "      <td>0.005708</td>\n",
       "      <td>0.295771</td>\n",
       "      <td>1017.081184</td>\n",
       "      <td>5.161262</td>\n",
       "      <td>8.492446</td>\n",
       "      <td>196.572483</td>\n",
       "      <td>3.866081</td>\n",
       "    </tr>\n",
       "    <tr>\n",
       "      <th>std</th>\n",
       "      <td>5.684022</td>\n",
       "      <td>16.727556</td>\n",
       "      <td>19259.146267</td>\n",
       "      <td>17.782389</td>\n",
       "      <td>16.396587</td>\n",
       "      <td>15.943817</td>\n",
       "      <td>16.444482</td>\n",
       "      <td>0.160626</td>\n",
       "      <td>0.332981</td>\n",
       "      <td>0.288318</td>\n",
       "      <td>0.050128</td>\n",
       "      <td>0.418053</td>\n",
       "      <td>6.144359</td>\n",
       "      <td>3.136283</td>\n",
       "      <td>2.060151</td>\n",
       "      <td>96.375443</td>\n",
       "      <td>3.284466</td>\n",
       "    </tr>\n",
       "    <tr>\n",
       "      <th>min</th>\n",
       "      <td>25.141000</td>\n",
       "      <td>-167.131000</td>\n",
       "      <td>60.000000</td>\n",
       "      <td>-0.620000</td>\n",
       "      <td>-8.455000</td>\n",
       "      <td>-22.780000</td>\n",
       "      <td>-11.210000</td>\n",
       "      <td>0.080000</td>\n",
       "      <td>0.000000</td>\n",
       "      <td>0.000000</td>\n",
       "      <td>0.000000</td>\n",
       "      <td>0.000000</td>\n",
       "      <td>980.340000</td>\n",
       "      <td>0.000000</td>\n",
       "      <td>0.740000</td>\n",
       "      <td>0.000000</td>\n",
       "      <td>0.000000</td>\n",
       "    </tr>\n",
       "    <tr>\n",
       "      <th>25%</th>\n",
       "      <td>35.345720</td>\n",
       "      <td>-117.057900</td>\n",
       "      <td>4595.000000</td>\n",
       "      <td>55.140000</td>\n",
       "      <td>46.767500</td>\n",
       "      <td>37.500000</td>\n",
       "      <td>34.770000</td>\n",
       "      <td>0.620000</td>\n",
       "      <td>0.120000</td>\n",
       "      <td>0.250000</td>\n",
       "      <td>0.000000</td>\n",
       "      <td>0.000000</td>\n",
       "      <td>1013.420000</td>\n",
       "      <td>3.000000</td>\n",
       "      <td>7.660000</td>\n",
       "      <td>128.000000</td>\n",
       "      <td>1.340000</td>\n",
       "    </tr>\n",
       "    <tr>\n",
       "      <th>50%</th>\n",
       "      <td>39.304500</td>\n",
       "      <td>-91.767330</td>\n",
       "      <td>15473.000000</td>\n",
       "      <td>69.975000</td>\n",
       "      <td>59.360000</td>\n",
       "      <td>49.400000</td>\n",
       "      <td>46.690000</td>\n",
       "      <td>0.730000</td>\n",
       "      <td>0.400000</td>\n",
       "      <td>0.490000</td>\n",
       "      <td>0.000000</td>\n",
       "      <td>0.000000</td>\n",
       "      <td>1016.960000</td>\n",
       "      <td>5.000000</td>\n",
       "      <td>9.451000</td>\n",
       "      <td>203.000000</td>\n",
       "      <td>2.930000</td>\n",
       "    </tr>\n",
       "    <tr>\n",
       "      <th>75%</th>\n",
       "      <td>43.931100</td>\n",
       "      <td>-83.069770</td>\n",
       "      <td>33979.000000</td>\n",
       "      <td>81.095000</td>\n",
       "      <td>70.380000</td>\n",
       "      <td>60.660000</td>\n",
       "      <td>59.000000</td>\n",
       "      <td>0.820000</td>\n",
       "      <td>0.730000</td>\n",
       "      <td>0.750000</td>\n",
       "      <td>0.001500</td>\n",
       "      <td>0.730000</td>\n",
       "      <td>1020.635000</td>\n",
       "      <td>8.000000</td>\n",
       "      <td>10.000000</td>\n",
       "      <td>273.000000</td>\n",
       "      <td>5.560000</td>\n",
       "    </tr>\n",
       "    <tr>\n",
       "      <th>max</th>\n",
       "      <td>64.891390</td>\n",
       "      <td>-68.228300</td>\n",
       "      <td>71997.000000</td>\n",
       "      <td>106.510000</td>\n",
       "      <td>94.030000</td>\n",
       "      <td>84.340000</td>\n",
       "      <td>77.400000</td>\n",
       "      <td>1.000000</td>\n",
       "      <td>1.000000</td>\n",
       "      <td>1.000000</td>\n",
       "      <td>2.069000</td>\n",
       "      <td>1.000000</td>\n",
       "      <td>1042.410000</td>\n",
       "      <td>13.000000</td>\n",
       "      <td>10.000000</td>\n",
       "      <td>359.000000</td>\n",
       "      <td>23.940000</td>\n",
       "    </tr>\n",
       "  </tbody>\n",
       "</table>\n",
       "</div>"
      ],
      "text/plain": [
       "          latitude    longitude        number  temperature_high  \\\n",
       "count  4045.000000  4045.000000   5021.000000       3338.000000   \n",
       "mean     39.363271   -97.423304  21520.234814         67.117693   \n",
       "std       5.684022    16.727556  19259.146267         17.782389   \n",
       "min      25.141000  -167.131000     60.000000         -0.620000   \n",
       "25%      35.345720  -117.057900   4595.000000         55.140000   \n",
       "50%      39.304500   -91.767330  15473.000000         69.975000   \n",
       "75%      43.931100   -83.069770  33979.000000         81.095000   \n",
       "max      64.891390   -68.228300  71997.000000        106.510000   \n",
       "\n",
       "       temperature_mid  temperature_low    dew_point     humidity  \\\n",
       "count      3186.000000      3189.000000  3373.000000  3373.000000   \n",
       "mean         57.843377        48.638768    46.233433     0.705672   \n",
       "std          16.396587        15.943817    16.444482     0.160626   \n",
       "min          -8.455000       -22.780000   -11.210000     0.080000   \n",
       "25%          46.767500        37.500000    34.770000     0.620000   \n",
       "50%          59.360000        49.400000    46.690000     0.730000   \n",
       "75%          70.380000        60.660000    59.000000     0.820000   \n",
       "max          94.030000        84.340000    77.400000     1.000000   \n",
       "\n",
       "       cloud_cover   moon_phase  precip_intensity  precip_probability  \\\n",
       "count  3084.000000  3396.000000       2712.000000         2710.000000   \n",
       "mean      0.438982     0.497968          0.005708            0.295771   \n",
       "std       0.332981     0.288318          0.050128            0.418053   \n",
       "min       0.000000     0.000000          0.000000            0.000000   \n",
       "25%       0.120000     0.250000          0.000000            0.000000   \n",
       "50%       0.400000     0.490000          0.000000            0.000000   \n",
       "75%       0.730000     0.750000          0.001500            0.730000   \n",
       "max       1.000000     1.000000          2.069000            1.000000   \n",
       "\n",
       "          pressure     uv_index   visibility  wind_bearing   wind_speed  \n",
       "count  2619.000000  3392.000000  3049.000000   3387.000000  3389.000000  \n",
       "mean   1017.081184     5.161262     8.492446    196.572483     3.866081  \n",
       "std       6.144359     3.136283     2.060151     96.375443     3.284466  \n",
       "min     980.340000     0.000000     0.740000      0.000000     0.000000  \n",
       "25%    1013.420000     3.000000     7.660000    128.000000     1.340000  \n",
       "50%    1016.960000     5.000000     9.451000    203.000000     2.930000  \n",
       "75%    1020.635000     8.000000    10.000000    273.000000     5.560000  \n",
       "max    1042.410000    13.000000    10.000000    359.000000    23.940000  "
      ]
     },
     "execution_count": 3,
     "metadata": {},
     "output_type": "execute_result"
    }
   ],
   "source": [
    "reports.describe()"
   ]
  },
  {
   "cell_type": "code",
   "execution_count": 4,
   "metadata": {},
   "outputs": [
    {
     "data": {
      "text/plain": [
       "Index(['observed', 'location_details', 'county', 'state', 'season', 'title',\n",
       "       'latitude', 'longitude', 'date', 'number', 'classification', 'geohash',\n",
       "       'temperature_high', 'temperature_mid', 'temperature_low', 'dew_point',\n",
       "       'humidity', 'cloud_cover', 'moon_phase', 'precip_intensity',\n",
       "       'precip_probability', 'precip_type', 'pressure', 'summary', 'uv_index',\n",
       "       'visibility', 'wind_bearing', 'wind_speed'],\n",
       "      dtype='object')"
      ]
     },
     "execution_count": 4,
     "metadata": {},
     "output_type": "execute_result"
    }
   ],
   "source": [
    "reports.columns"
   ]
  },
  {
   "cell_type": "code",
   "execution_count": 8,
   "metadata": {},
   "outputs": [
    {
     "data": {
      "text/plain": [
       "<AxesSubplot:xlabel='latitude', ylabel='Count'>"
      ]
     },
     "execution_count": 8,
     "metadata": {},
     "output_type": "execute_result"
    },
    {
     "data": {
      "image/png": "[encoded data removed]",
      "text/plain": [
       "<Figure size 432x288 with 1 Axes>"
      ]
     },
     "metadata": {
      "needs_background": "light"
     },
     "output_type": "display_data"
    }
   ],
   "source": [
    "sns.histplot(x=\"latitude\", data=reports, kde=True)"
   ]
  },
  {
   "cell_type": "code",
   "execution_count": 20,
   "metadata": {},
   "outputs": [
    {
     "data": {
      "text/plain": [
       "<AxesSubplot:title={'center':'Sightings by Longitude'}, ylabel='Frequency'>"
      ]
     },
     "execution_count": 20,
     "metadata": {},
     "output_type": "execute_result"
    },
    {
     "data": {
      "image/png": "[encoded data removed]",
      "text/plain": [
       "<Figure size 432x288 with 1 Axes>"
      ]
     },
     "metadata": {
      "needs_background": "light"
     },
     "output_type": "display_data"
    }
   ],
   "source": [
    "reports[\"longitude\"].plot.hist(bins=20, title=\"Sightings by Longitude\")"
   ]
  },
  {
   "cell_type": "code",
   "execution_count": 24,
   "metadata": {},
   "outputs": [
    {
     "data": {
      "text/plain": [
       "<AxesSubplot:ylabel='Temperature in Fahrenheit'>"
      ]
     },
     "execution_count": 24,
     "metadata": {},
     "output_type": "execute_result"
    },
    {
     "data": {
      "image/png": "[encoded data removed]",
      "text/plain": [
       "<Figure size 432x288 with 1 Axes>"
      ]
     },
     "metadata": {
      "needs_background": "light"
     },
     "output_type": "display_data"
    }
   ],
   "source": [
    "reports[\"temperature_mid\"].plot(kind=\"box\", ylabel=\"Temperature in Fahrenheit\")"
   ]
  },
  {
   "cell_type": "code",
   "execution_count": 33,
   "metadata": {},
   "outputs": [
    {
     "data": {
      "text/plain": [
       "<AxesSubplot:ylabel='% of cloud coverage'>"
      ]
     },
     "execution_count": 33,
     "metadata": {},
     "output_type": "execute_result"
    },
    {
     "data": {
      "image/png": "[encoded data removed]",
      "text/plain": [
       "<Figure size 432x288 with 1 Axes>"
      ]
     },
     "metadata": {
      "needs_background": "light"
     },
     "output_type": "display_data"
    }
   ],
   "source": [
    "reports[\"cloud_cover\"].plot(kind=\"box\", ylabel=\"% of cloud coverage\")"
   ]
  },
  {
   "cell_type": "code",
   "execution_count": 35,
   "metadata": {},
   "outputs": [
    {
     "data": {
      "text/plain": [
       "<AxesSubplot:ylabel='Frequency'>"
      ]
     },
     "execution_count": 35,
     "metadata": {},
     "output_type": "execute_result"
    },
    {
     "data": {
      "image/png": "[encoded data removed]",
      "text/plain": [
       "<Figure size 432x288 with 1 Axes>"
      ]
     },
     "metadata": {
      "needs_background": "light"
     },
     "output_type": "display_data"
    }
   ],
   "source": [
    "reports[\"moon_phase\"].plot(kind=\"hist\", bins=28)"
   ]
  },
  {
   "cell_type": "code",
   "execution_count": 26,
   "metadata": {},
   "outputs": [
    {
     "data": {
      "text/plain": [
       "<AxesSubplot:ylabel='season'>"
      ]
     },
     "execution_count": 26,
     "metadata": {},
     "output_type": "execute_result"
    },
    {
     "data": {
      "image/png": "[encoded data removed]",
      "text/plain": [
       "<Figure size 432x288 with 1 Axes>"
      ]
     },
     "metadata": {},
     "output_type": "display_data"
    }
   ],
   "source": [
    "reports[\"season\"].value_counts().plot(kind=\"pie\")"
   ]
  },
  {
   "cell_type": "code",
   "execution_count": 30,
   "metadata": {},
   "outputs": [
    {
     "data": {
      "text/plain": [
       "<AxesSubplot:ylabel='classification'>"
      ]
     },
     "execution_count": 30,
     "metadata": {},
     "output_type": "execute_result"
    },
    {
     "data": {
      "image/png": "[encoded data removed]",
      "text/plain": [
       "<Figure size 432x288 with 1 Axes>"
      ]
     },
     "metadata": {},
     "output_type": "display_data"
    }
   ],
   "source": [
    "reports[\"classification\"].value_counts().plot(kind=\"pie\")"
   ]
  },
  {
   "cell_type": "code",
   "execution_count": null,
   "metadata": {},
   "outputs": [],
   "source": []
  }
 ],
 "metadata": {
  "interpreter": {
   "hash": "3dde85307076708b29c4adbd734bc3d11b3c5a58eb61cfb6cec7c8c6cbfe31c2"
  },
  "kernelspec": {
   "display_name": "Python 3.10.4 ('geo')",
   "language": "python",
   "name": "python3"
  },
  "language_info": {
   "codemirror_mode": {
    "name": "ipython",
    "version": 3
   },
   "file_extension": ".py",
   "mimetype": "text/x-python",
   "name": "python",
   "nbconvert_exporter": "python",
   "pygments_lexer": "ipython3",
   "version": "3.10.4"
  },
  "orig_nbformat": 4
 },
 "nbformat": 4,
 "nbformat_minor": 2
}
